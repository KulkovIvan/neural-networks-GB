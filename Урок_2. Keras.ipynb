{
 "cells": [
  {
   "cell_type": "code",
   "execution_count": 9,
   "id": "76b0aad6",
   "metadata": {},
   "outputs": [
    {
     "name": "stdout",
     "output_type": "stream",
     "text": [
      "Requirement already satisfied: keras in c:\\programdata\\anaconda3\\lib\\site-packages (2.11.0)\n",
      "Note: you may need to restart the kernel to use updated packages.\n"
     ]
    }
   ],
   "source": [
    "pip install keras\n"
   ]
  },
  {
   "cell_type": "code",
   "execution_count": 10,
   "id": "4820d1b6",
   "metadata": {},
   "outputs": [
    {
     "name": "stdout",
     "output_type": "stream",
     "text": [
      "Collecting TensorFlow\n",
      "  Downloading tensorflow-2.11.0-cp38-cp38-win_amd64.whl (1.9 kB)\n",
      "Collecting tensorflow-intel==2.11.0\n",
      "  Downloading tensorflow_intel-2.11.0-cp38-cp38-win_amd64.whl (266.3 MB)\n",
      "Requirement already satisfied: six>=1.12.0 in c:\\programdata\\anaconda3\\lib\\site-packages (from tensorflow-intel==2.11.0->TensorFlow) (1.15.0)\n",
      "Requirement already satisfied: typing-extensions>=3.6.6 in c:\\programdata\\anaconda3\\lib\\site-packages (from tensorflow-intel==2.11.0->TensorFlow) (3.7.4.3)\n",
      "Collecting protobuf<3.20,>=3.9.2\n",
      "  Downloading protobuf-3.19.6-cp38-cp38-win_amd64.whl (896 kB)\n",
      "Collecting google-pasta>=0.1.1\n",
      "  Downloading google_pasta-0.2.0-py3-none-any.whl (57 kB)\n",
      "Collecting tensorflow-io-gcs-filesystem>=0.23.1\n",
      "  Downloading tensorflow_io_gcs_filesystem-0.30.0-cp38-cp38-win_amd64.whl (1.5 MB)\n",
      "Requirement already satisfied: keras<2.12,>=2.11.0 in c:\\programdata\\anaconda3\\lib\\site-packages (from tensorflow-intel==2.11.0->TensorFlow) (2.11.0)\n",
      "Collecting termcolor>=1.1.0\n",
      "  Downloading termcolor-2.2.0-py3-none-any.whl (6.6 kB)\n",
      "Requirement already satisfied: numpy>=1.20 in c:\\programdata\\anaconda3\\lib\\site-packages (from tensorflow-intel==2.11.0->TensorFlow) (1.20.1)\n",
      "Requirement already satisfied: packaging in c:\\programdata\\anaconda3\\lib\\site-packages (from tensorflow-intel==2.11.0->TensorFlow) (21.3)\n",
      "Collecting tensorboard<2.12,>=2.11\n",
      "  Downloading tensorboard-2.11.2-py3-none-any.whl (6.0 MB)\n",
      "Collecting tensorflow-estimator<2.12,>=2.11.0\n",
      "  Downloading tensorflow_estimator-2.11.0-py2.py3-none-any.whl (439 kB)\n",
      "Collecting flatbuffers>=2.0\n",
      "  Downloading flatbuffers-23.1.21-py2.py3-none-any.whl (26 kB)\n",
      "Collecting grpcio<2.0,>=1.24.3\n",
      "  Downloading grpcio-1.51.1-cp38-cp38-win_amd64.whl (3.7 MB)\n",
      "Requirement already satisfied: h5py>=2.9.0 in c:\\programdata\\anaconda3\\lib\\site-packages (from tensorflow-intel==2.11.0->TensorFlow) (2.10.0)\n",
      "Collecting astunparse>=1.6.0\n",
      "  Downloading astunparse-1.6.3-py2.py3-none-any.whl (12 kB)\n",
      "Collecting libclang>=13.0.0\n",
      "  Downloading libclang-15.0.6.1-py2.py3-none-win_amd64.whl (23.2 MB)\n",
      "Collecting absl-py>=1.0.0\n",
      "  Downloading absl_py-1.4.0-py3-none-any.whl (126 kB)\n",
      "Collecting opt-einsum>=2.3.2\n",
      "  Downloading opt_einsum-3.3.0-py3-none-any.whl (65 kB)\n",
      "Requirement already satisfied: setuptools in c:\\programdata\\anaconda3\\lib\\site-packages (from tensorflow-intel==2.11.0->TensorFlow) (52.0.0.post20210125)\n",
      "Collecting gast<=0.4.0,>=0.2.1\n",
      "  Downloading gast-0.4.0-py3-none-any.whl (9.8 kB)\n",
      "Requirement already satisfied: wrapt>=1.11.0 in c:\\programdata\\anaconda3\\lib\\site-packages (from tensorflow-intel==2.11.0->TensorFlow) (1.12.1)\n",
      "Requirement already satisfied: wheel<1.0,>=0.23.0 in c:\\programdata\\anaconda3\\lib\\site-packages (from astunparse>=1.6.0->tensorflow-intel==2.11.0->TensorFlow) (0.36.2)\n",
      "Collecting google-auth-oauthlib<0.5,>=0.4.1\n",
      "  Downloading google_auth_oauthlib-0.4.6-py2.py3-none-any.whl (18 kB)\n",
      "Collecting tensorboard-data-server<0.7.0,>=0.6.0\n",
      "  Downloading tensorboard_data_server-0.6.1-py3-none-any.whl (2.4 kB)\n",
      "Collecting google-auth<3,>=1.6.3\n",
      "  Downloading google_auth-2.16.0-py2.py3-none-any.whl (177 kB)\n",
      "Requirement already satisfied: requests<3,>=2.21.0 in c:\\programdata\\anaconda3\\lib\\site-packages (from tensorboard<2.12,>=2.11->tensorflow-intel==2.11.0->TensorFlow) (2.25.1)\n",
      "Requirement already satisfied: werkzeug>=1.0.1 in c:\\programdata\\anaconda3\\lib\\site-packages (from tensorboard<2.12,>=2.11->tensorflow-intel==2.11.0->TensorFlow) (1.0.1)\n",
      "Collecting markdown>=2.6.8\n",
      "  Downloading Markdown-3.4.1-py3-none-any.whl (93 kB)\n",
      "Collecting tensorboard-plugin-wit>=1.6.0\n",
      "  Downloading tensorboard_plugin_wit-1.8.1-py3-none-any.whl (781 kB)\n",
      "Collecting rsa<5,>=3.1.4\n",
      "  Downloading rsa-4.9-py3-none-any.whl (34 kB)\n",
      "Collecting cachetools<6.0,>=2.0.0\n",
      "  Downloading cachetools-5.3.0-py3-none-any.whl (9.3 kB)\n",
      "Collecting pyasn1-modules>=0.2.1\n",
      "  Using cached pyasn1_modules-0.2.8-py2.py3-none-any.whl (155 kB)\n",
      "Collecting requests-oauthlib>=0.7.0\n",
      "  Downloading requests_oauthlib-1.3.1-py2.py3-none-any.whl (23 kB)\n",
      "Collecting importlib-metadata>=4.4\n",
      "  Downloading importlib_metadata-6.0.0-py3-none-any.whl (21 kB)\n",
      "Requirement already satisfied: zipp>=0.5 in c:\\programdata\\anaconda3\\lib\\site-packages (from importlib-metadata>=4.4->markdown>=2.6.8->tensorboard<2.12,>=2.11->tensorflow-intel==2.11.0->TensorFlow) (3.4.1)\n",
      "Collecting pyasn1<0.5.0,>=0.4.6\n",
      "  Using cached pyasn1-0.4.8-py2.py3-none-any.whl (77 kB)\n",
      "Requirement already satisfied: chardet<5,>=3.0.2 in c:\\programdata\\anaconda3\\lib\\site-packages (from requests<3,>=2.21.0->tensorboard<2.12,>=2.11->tensorflow-intel==2.11.0->TensorFlow) (4.0.0)\n",
      "Requirement already satisfied: urllib3<1.27,>=1.21.1 in c:\\programdata\\anaconda3\\lib\\site-packages (from requests<3,>=2.21.0->tensorboard<2.12,>=2.11->tensorflow-intel==2.11.0->TensorFlow) (1.26.4)\n",
      "Requirement already satisfied: certifi>=2017.4.17 in c:\\programdata\\anaconda3\\lib\\site-packages (from requests<3,>=2.21.0->tensorboard<2.12,>=2.11->tensorflow-intel==2.11.0->TensorFlow) (2020.12.5)\n",
      "Requirement already satisfied: idna<3,>=2.5 in c:\\programdata\\anaconda3\\lib\\site-packages (from requests<3,>=2.21.0->tensorboard<2.12,>=2.11->tensorflow-intel==2.11.0->TensorFlow) (2.10)\n",
      "Collecting oauthlib>=3.0.0\n",
      "  Downloading oauthlib-3.2.2-py3-none-any.whl (151 kB)\n",
      "Requirement already satisfied: pyparsing!=3.0.5,>=2.0.2 in c:\\programdata\\anaconda3\\lib\\site-packages (from packaging->tensorflow-intel==2.11.0->TensorFlow) (2.4.7)\n",
      "Installing collected packages: pyasn1, rsa, pyasn1-modules, oauthlib, cachetools, requests-oauthlib, importlib-metadata, google-auth, tensorboard-plugin-wit, tensorboard-data-server, protobuf, markdown, grpcio, google-auth-oauthlib, absl-py, termcolor, tensorflow-io-gcs-filesystem, tensorflow-estimator, tensorboard, opt-einsum, libclang, google-pasta, gast, flatbuffers, astunparse, tensorflow-intel, TensorFlow\n",
      "  Attempting uninstall: importlib-metadata\n",
      "    Found existing installation: importlib-metadata 3.10.0\n",
      "    Uninstalling importlib-metadata-3.10.0:\n",
      "      Successfully uninstalled importlib-metadata-3.10.0\n",
      "Successfully installed TensorFlow-2.11.0 absl-py-1.4.0 astunparse-1.6.3 cachetools-5.3.0 flatbuffers-23.1.21 gast-0.4.0 google-auth-2.16.0 google-auth-oauthlib-0.4.6 google-pasta-0.2.0 grpcio-1.51.1 importlib-metadata-6.0.0 libclang-15.0.6.1 markdown-3.4.1 oauthlib-3.2.2 opt-einsum-3.3.0 protobuf-3.19.6 pyasn1-0.4.8 pyasn1-modules-0.2.8 requests-oauthlib-1.3.1 rsa-4.9 tensorboard-2.11.2 tensorboard-data-server-0.6.1 tensorboard-plugin-wit-1.8.1 tensorflow-estimator-2.11.0 tensorflow-intel-2.11.0 tensorflow-io-gcs-filesystem-0.30.0 termcolor-2.2.0\n",
      "Note: you may need to restart the kernel to use updated packages.\n"
     ]
    }
   ],
   "source": [
    "pip install TensorFlow"
   ]
  },
  {
   "cell_type": "markdown",
   "id": "aa1cd427",
   "metadata": {},
   "source": [
    "## Домашнее задание 2"
   ]
  },
  {
   "cell_type": "markdown",
   "id": "8ea14306",
   "metadata": {},
   "source": [
    "@ Используем набор примеров fashion-MNIST"
   ]
  },
  {
   "cell_type": "markdown",
   "id": "198b643f",
   "metadata": {},
   "source": [
    "1. Опишите - какой результата получен в нейросети в зависимости от:\n",
    "    \n",
    "    числа нейронов в слое(для 2-хслойной сети),\n",
    "    \n",
    "    числа слоев (2, 3, 5, 10) при близких размерах сети (близкое число тренируемых парметров).\n",
    "    \n",
    "    фиксируйте для тренировочного и тестового набора метрики accuracy."
   ]
  },
  {
   "cell_type": "markdown",
   "id": "da6e4bf3",
   "metadata": {},
   "source": [
    "2. Проверьте работу разных оптимизаторов (SGD, Adam, RMSProp) для одной из моделей п.1.Фиксируйте для тренировочного и тестового набора метрики accuracy."
   ]
  },
  {
   "cell_type": "markdown",
   "id": "324aad67",
   "metadata": {},
   "source": [
    "3. Сделайте вывод - что помогло вам улучшить качество классификации в нейросети на тестовом наборе?"
   ]
  },
  {
   "cell_type": "markdown",
   "id": "87ae2850",
   "metadata": {},
   "source": [
    "4. Для одного варианта сетей сформируйте матрицу ошибок по классам. Оцените качество модели по каждому классу отдельно (полнота , точность). Сделайте вывод."
   ]
  },
  {
   "cell_type": "code",
   "execution_count": 12,
   "id": "103a9350",
   "metadata": {},
   "outputs": [],
   "source": [
    "import numpy as np\n",
    "import keras\n",
    "from keras.datasets import fashion_mnist\n",
    "from keras.models import Sequential\n",
    "from keras.layers import Dense\n",
    "from tensorflow.keras.utils import to_categorical\n",
    "from sklearn.metrics import multilabel_confusion_matrix, classification_report,  ConfusionMatrixDisplay\n",
    "import matplotlib.pyplot as plt"
   ]
  },
  {
   "cell_type": "code",
   "execution_count": 13,
   "id": "3d0dc5c6",
   "metadata": {},
   "outputs": [
    {
     "name": "stdout",
     "output_type": "stream",
     "text": [
      "Downloading data from https://storage.googleapis.com/tensorflow/tf-keras-datasets/train-labels-idx1-ubyte.gz\n",
      "29515/29515 [==============================] - 3s 88us/step\n",
      "Downloading data from https://storage.googleapis.com/tensorflow/tf-keras-datasets/train-images-idx3-ubyte.gz\n",
      "26421880/26421880 [==============================] - 25s 1us/step\n",
      "Downloading data from https://storage.googleapis.com/tensorflow/tf-keras-datasets/t10k-labels-idx1-ubyte.gz\n",
      "5148/5148 [==============================] - 0s 0s/step\n",
      "Downloading data from https://storage.googleapis.com/tensorflow/tf-keras-datasets/t10k-images-idx3-ubyte.gz\n",
      "4422102/4422102 [==============================] - 1s 0us/step\n"
     ]
    }
   ],
   "source": [
    "(train_imagef,train_labelf),(test_imagef,test_labelf)=fashion_mnist.load_data()"
   ]
  },
  {
   "cell_type": "code",
   "execution_count": 14,
   "id": "a9c45871",
   "metadata": {},
   "outputs": [
    {
     "name": "stdout",
     "output_type": "stream",
     "text": [
      "(60000, 28, 28)\n",
      "(10000, 28, 28)\n"
     ]
    }
   ],
   "source": [
    "print(train_imagef.shape)\n",
    "print(test_imagef.shape)"
   ]
  },
  {
   "cell_type": "code",
   "execution_count": 15,
   "id": "e8ba1a04",
   "metadata": {},
   "outputs": [],
   "source": [
    "train_imagef = train_imagef.reshape((-1, 784))\n",
    "test_imagef = test_imagef.reshape((-1, 784))"
   ]
  },
  {
   "cell_type": "code",
   "execution_count": 16,
   "id": "cc17a832",
   "metadata": {},
   "outputs": [],
   "source": [
    "train_imagef = (train_imagef / 127) - 1\n",
    "test_imagef = (test_imagef / 127) - 1"
   ]
  },
  {
   "cell_type": "code",
   "execution_count": 17,
   "id": "b3b6a929",
   "metadata": {},
   "outputs": [],
   "source": [
    "model = Sequential([\n",
    "  Dense(128, activation='tanh', input_shape=(784,)),\n",
    "  Dense(110, activation='tanh'),\n",
    "  Dense(100, activation='tanh'),\n",
    "  Dense(10, activation='softmax'),\n",
    "])\n",
    "\n",
    "\n",
    "model.compile(\n",
    "  optimizer='adam',\n",
    "  loss='categorical_crossentropy',\n",
    "  metrics=['accuracy'],\n",
    ")"
   ]
  },
  {
   "cell_type": "code",
   "execution_count": 18,
   "id": "0e1b2789",
   "metadata": {},
   "outputs": [],
   "source": [
    "model.save_weights('model.h5')"
   ]
  },
  {
   "cell_type": "code",
   "execution_count": 19,
   "id": "61b3a511",
   "metadata": {},
   "outputs": [
    {
     "name": "stdout",
     "output_type": "stream",
     "text": [
      "Model: \"sequential\"\n",
      "_________________________________________________________________\n",
      " Layer (type)                Output Shape              Param #   \n",
      "=================================================================\n",
      " dense (Dense)               (None, 128)               100480    \n",
      "                                                                 \n",
      " dense_1 (Dense)             (None, 110)               14190     \n",
      "                                                                 \n",
      " dense_2 (Dense)             (None, 100)               11100     \n",
      "                                                                 \n",
      " dense_3 (Dense)             (None, 10)                1010      \n",
      "                                                                 \n",
      "=================================================================\n",
      "Total params: 126,780\n",
      "Trainable params: 126,780\n",
      "Non-trainable params: 0\n",
      "_________________________________________________________________\n"
     ]
    }
   ],
   "source": [
    "model.summary( )"
   ]
  },
  {
   "cell_type": "code",
   "execution_count": 20,
   "id": "66de7ebf",
   "metadata": {},
   "outputs": [],
   "source": [
    "y_t = to_categorical(train_labelf)\n",
    "y_tt = to_categorical(test_labelf)"
   ]
  },
  {
   "cell_type": "code",
   "execution_count": 21,
   "id": "5fc54c84",
   "metadata": {},
   "outputs": [
    {
     "data": {
      "text/plain": [
       "array([1., 0., 0., 0., 0., 0., 0., 0., 0., 0.], dtype=float32)"
      ]
     },
     "execution_count": 21,
     "metadata": {},
     "output_type": "execute_result"
    }
   ],
   "source": [
    "y_t[1]"
   ]
  },
  {
   "cell_type": "code",
   "execution_count": 23,
   "id": "81f5b5b8",
   "metadata": {},
   "outputs": [
    {
     "name": "stdout",
     "output_type": "stream",
     "text": [
      "Epoch 1/2\n",
      "1500/1500 [==============================] - 3s 2ms/step - loss: 0.3748 - accuracy: 0.8620 - val_loss: 0.4092 - val_accuracy: 0.8500\n",
      "Epoch 2/2\n",
      "1500/1500 [==============================] - 3s 2ms/step - loss: 0.3536 - accuracy: 0.8689 - val_loss: 0.3947 - val_accuracy: 0.8571\n",
      "313/313 [==============================] - 0s 1ms/step - loss: 0.4183 - accuracy: 0.8470\n"
     ]
    },
    {
     "data": {
      "text/plain": [
       "[0.4182687997817993, 0.847000002861023]"
      ]
     },
     "execution_count": 23,
     "metadata": {},
     "output_type": "execute_result"
    }
   ],
   "source": [
    "# Train the model.\n",
    "model.fit(    \n",
    "  train_imagef[:,:],\n",
    "\n",
    "  y_t[:,:],\n",
    "  epochs=2,\n",
    "  batch_size=32, validation_split=0.2\n",
    ")\n",
    "\n",
    "# Evaluate the model.\n",
    "model.evaluate( \n",
    "  test_imagef,\n",
    "  y_tt\n",
    ")"
   ]
  },
  {
   "cell_type": "markdown",
   "id": "279c55cd",
   "metadata": {},
   "source": [
    "### 1. Опишите - какой результат получен в нейросети в зависимости от параметров"
   ]
  },
  {
   "cell_type": "code",
   "execution_count": 24,
   "id": "4ba972e5",
   "metadata": {},
   "outputs": [],
   "source": [
    "def grid_test_models_1(train_data, train_label, test_data, test_label, optimizer='adam' ,base_neurons=128, add_layers=0 ):\n",
    "    model = Sequential()\n",
    "    model.add(Dense(base_neurons, activation='tanh', input_shape=(784,)))  \n",
    "    for k in range(add_layers):\n",
    "        model.add(Dense(10+(10-k)*10, activation='tanh'))       \n",
    "    model.add(Dense(10, activation='softmax')) \n",
    "\n",
    "    model.compile(\n",
    "      optimizer=optimizer,\n",
    "      loss='categorical_crossentropy',\n",
    "      metrics=['accuracy'],\n",
    "    )  \n",
    "    \n",
    "    model.fit(    \n",
    "      train_data[:,:],\n",
    "      train_label[:,:],\n",
    "      epochs=2,\n",
    "      batch_size=1024, validation_split=0.2, verbose=0\n",
    "    )\n",
    "    \n",
    "    return f'При параметрах: optimizer = {optimizer}, base_neurons = {base_neurons}, layers = {2 + add_layers} Качество: accuracy = {model.evaluate(test_data, test_label, verbose=0)[1]}'\n",
    "      "
   ]
  },
  {
   "cell_type": "markdown",
   "id": "09464c7d",
   "metadata": {},
   "source": [
    "#### 1.1 Числа нейронов в слое(для 2-хслойной сети)"
   ]
  },
  {
   "cell_type": "code",
   "execution_count": 25,
   "id": "254ac88b",
   "metadata": {},
   "outputs": [
    {
     "name": "stdout",
     "output_type": "stream",
     "text": [
      "При параметрах: optimizer = adam, base_neurons = 10, layers = 2 Качество: accuracy = 0.7577000260353088\n",
      "При параметрах: optimizer = adam, base_neurons = 20, layers = 2 Качество: accuracy = 0.7778000235557556\n",
      "При параметрах: optimizer = adam, base_neurons = 30, layers = 2 Качество: accuracy = 0.7964000105857849\n",
      "При параметрах: optimizer = adam, base_neurons = 50, layers = 2 Качество: accuracy = 0.809499979019165\n",
      "При параметрах: optimizer = adam, base_neurons = 80, layers = 2 Качество: accuracy = 0.8209999799728394\n",
      "При параметрах: optimizer = adam, base_neurons = 100, layers = 2 Качество: accuracy = 0.821399986743927\n",
      "При параметрах: optimizer = adam, base_neurons = 128, layers = 2 Качество: accuracy = 0.8253999948501587\n",
      "При параметрах: optimizer = adam, base_neurons = 150, layers = 2 Качество: accuracy = 0.8296999931335449\n",
      "При параметрах: optimizer = adam, base_neurons = 180, layers = 2 Качество: accuracy = 0.8270000219345093\n",
      "При параметрах: optimizer = adam, base_neurons = 200, layers = 2 Качество: accuracy = 0.8341000080108643\n",
      "При параметрах: optimizer = adam, base_neurons = 250, layers = 2 Качество: accuracy = 0.8373000025749207\n",
      "При параметрах: optimizer = adam, base_neurons = 350, layers = 2 Качество: accuracy = 0.8353999853134155\n",
      "При параметрах: optimizer = adam, base_neurons = 450, layers = 2 Качество: accuracy = 0.8385999798774719\n",
      "При параметрах: optimizer = adam, base_neurons = 600, layers = 2 Качество: accuracy = 0.8407999873161316\n",
      "При параметрах: optimizer = adam, base_neurons = 800, layers = 2 Качество: accuracy = 0.8428000211715698\n",
      "При параметрах: optimizer = adam, base_neurons = 1000, layers = 2 Качество: accuracy = 0.8375999927520752\n"
     ]
    }
   ],
   "source": [
    "num_neurons = [10,20,30,50,80,100,128,150,180,200,250,350,450,600,800,1000]\n",
    "for i in num_neurons:\n",
    "    print(grid_test_models_1(train_imagef, y_t, test_imagef, y_tt, base_neurons = i))"
   ]
  },
  {
   "cell_type": "markdown",
   "id": "73d03765",
   "metadata": {},
   "source": [
    "## При увеличении числа нейронов растет и качество модели"
   ]
  },
  {
   "cell_type": "markdown",
   "id": "35161c45",
   "metadata": {},
   "source": [
    "#### 1.2 числа слоев (2, 3, 5, 10) при близких размерах сети (близкое число тренируемых параметров)."
   ]
  },
  {
   "cell_type": "code",
   "execution_count": 26,
   "id": "204b4767",
   "metadata": {},
   "outputs": [
    {
     "name": "stdout",
     "output_type": "stream",
     "text": [
      "При параметрах: optimizer = adam, base_neurons = 128, layers = 2 Качество: accuracy = 0.8313000202178955\n",
      "При параметрах: optimizer = adam, base_neurons = 128, layers = 3 Качество: accuracy = 0.8331000208854675\n",
      "При параметрах: optimizer = adam, base_neurons = 128, layers = 4 Качество: accuracy = 0.8353999853134155\n",
      "При параметрах: optimizer = adam, base_neurons = 128, layers = 5 Качество: accuracy = 0.8385999798774719\n",
      "При параметрах: optimizer = adam, base_neurons = 128, layers = 6 Качество: accuracy = 0.8450000286102295\n",
      "При параметрах: optimizer = adam, base_neurons = 128, layers = 7 Качество: accuracy = 0.8420000076293945\n",
      "При параметрах: optimizer = adam, base_neurons = 128, layers = 8 Качество: accuracy = 0.8295999765396118\n",
      "При параметрах: optimizer = adam, base_neurons = 128, layers = 9 Качество: accuracy = 0.8414000272750854\n",
      "При параметрах: optimizer = adam, base_neurons = 128, layers = 10 Качество: accuracy = 0.8345000147819519\n",
      "При параметрах: optimizer = adam, base_neurons = 128, layers = 11 Качество: accuracy = 0.8303999900817871\n",
      "При параметрах: optimizer = adam, base_neurons = 128, layers = 12 Качество: accuracy = 0.8356999754905701\n"
     ]
    }
   ],
   "source": [
    "for i in range(11):\n",
    "    print(grid_test_models_1(train_imagef, y_t, test_imagef, y_tt, add_layers=i ))"
   ]
  },
  {
   "cell_type": "markdown",
   "id": "3286e6e7",
   "metadata": {},
   "source": [
    "###  При увеличении числа слоев в начале мы видим и увеличение качества модели, хотя затем наблюдается и спад "
   ]
  },
  {
   "cell_type": "markdown",
   "id": "439be05a",
   "metadata": {},
   "source": [
    "### 2. Проверьте работу разных оптимизаторов (SGD, Adam, RMSProp) для одной из моделей п.1.Фиксируйте для тренировочного и тестового набора метрики accuracy."
   ]
  },
  {
   "cell_type": "code",
   "execution_count": 27,
   "id": "1ac45618",
   "metadata": {},
   "outputs": [],
   "source": [
    "def grid_test_models_2(train_data, train_label, test_data, test_label, optimizer='adam'):\n",
    "    model = Sequential([\n",
    "      Dense(128, activation='tanh', input_shape=(784,)),\n",
    "      Dense(110, activation='tanh'),\n",
    "      Dense(100, activation='tanh'),\n",
    "      Dense(10, activation='softmax'),\n",
    "    ])\n",
    "    model.load_weights('model.h5')\n",
    "    model.compile(\n",
    "      optimizer=optimizer,\n",
    "      loss='categorical_crossentropy',\n",
    "      metrics=['accuracy'],\n",
    "    )  \n",
    "    \n",
    "    \n",
    "    model.fit(    \n",
    "      train_data[:,:],\n",
    "      train_label[:,:],\n",
    "      epochs=2,\n",
    "      batch_size=1024, validation_split=0.2, verbose=0\n",
    "    )\n",
    "    \n",
    "    return f'При параметрах: optimizer = {optimizer}, base_neurons = {base_neurons}, layers = {2 + add_layers} Качество: accuracy = {model.evaluate(test_data, test_label, verbose=0)[1]}'\n",
    "      "
   ]
  },
  {
   "cell_type": "code",
   "execution_count": 28,
   "id": "178be788",
   "metadata": {},
   "outputs": [
    {
     "name": "stdout",
     "output_type": "stream",
     "text": [
      "При параметрах: optimizer = adam, base_neurons = 128, layers = 2 Качество: accuracy = 0.8282999992370605\n",
      "При параметрах: optimizer = SGD, base_neurons = 128, layers = 2 Качество: accuracy = 0.7069000005722046\n",
      "При параметрах: optimizer = RMSProp, base_neurons = 128, layers = 2 Качество: accuracy = 0.7906000018119812\n",
      "При параметрах: optimizer = Adagrad, base_neurons = 128, layers = 2 Качество: accuracy = 0.5665000081062317\n"
     ]
    }
   ],
   "source": [
    "optimaizers = ['adam', 'SGD', 'RMSProp', 'Adagrad']\n",
    "for i in optimaizers:\n",
    "    print(grid_test_models_1(train_imagef, y_t, test_imagef, y_tt, optimizer = i))"
   ]
  },
  {
   "cell_type": "markdown",
   "id": "496b4149",
   "metadata": {},
   "source": [
    "из всех опробованных оптимизаторов лучше всех проявил себя adam"
   ]
  },
  {
   "cell_type": "markdown",
   "id": "6caf5787",
   "metadata": {},
   "source": [
    "#### 3. Сделайте вывод - что помогло вам улучшить качество классификации в нейросети на тестовом наборе?"
   ]
  },
  {
   "cell_type": "markdown",
   "id": "d060d42c",
   "metadata": {},
   "source": [
    "Размер слоя повысил качество модели, а также оптимизатор adam"
   ]
  },
  {
   "cell_type": "markdown",
   "id": "55d21ed4",
   "metadata": {},
   "source": [
    "### 4.Для одного варианта сетей сформируйте матрицу ошибок по классам. Оцените качество модели по каждому классу отдельно (полнота , точность). Сделайте вывод."
   ]
  },
  {
   "cell_type": "code",
   "execution_count": 29,
   "id": "0eabe162",
   "metadata": {},
   "outputs": [
    {
     "data": {
      "text/plain": [
       "<keras.callbacks.History at 0x1df828fda60>"
      ]
     },
     "execution_count": 29,
     "metadata": {},
     "output_type": "execute_result"
    }
   ],
   "source": [
    "model = Sequential([\n",
    "      Dense(600, activation='tanh', input_shape=(784,)),      \n",
    "      Dense(10, activation='softmax'),\n",
    "    ])\n",
    "\n",
    "model.compile(\n",
    "      optimizer='adam',\n",
    "      loss='categorical_crossentropy',\n",
    "      metrics=['accuracy'],\n",
    "    )  \n",
    "    \n",
    "    \n",
    "model.fit(    \n",
    "      train_imagef[:,:],\n",
    "      y_t[:,:],\n",
    "      epochs=35,\n",
    "      batch_size=1024, validation_split=0.2, verbose=0\n",
    "    )"
   ]
  },
  {
   "cell_type": "code",
   "execution_count": 30,
   "id": "84c40337",
   "metadata": {},
   "outputs": [
    {
     "data": {
      "text/plain": [
       "0.8884999752044678"
      ]
     },
     "execution_count": 30,
     "metadata": {},
     "output_type": "execute_result"
    }
   ],
   "source": [
    "model.evaluate(test_imagef, y_tt, verbose=0)[1]"
   ]
  },
  {
   "cell_type": "code",
   "execution_count": 32,
   "id": "ba8c35a0",
   "metadata": {},
   "outputs": [
    {
     "name": "stdout",
     "output_type": "stream",
     "text": [
      "313/313 [==============================] - 1s 1ms/step\n"
     ]
    }
   ],
   "source": [
    "y_pred = model.predict(test_imagef)\n",
    "y_pred_class = np.argmax(y_pred,axis=1)"
   ]
  },
  {
   "cell_type": "code",
   "execution_count": 33,
   "id": "7035d00a",
   "metadata": {},
   "outputs": [
    {
     "name": "stdout",
     "output_type": "stream",
     "text": [
      "              precision    recall  f1-score   support\n",
      "\n",
      "           0       0.86      0.79      0.82      1000\n",
      "           1       0.99      0.97      0.98      1000\n",
      "           2       0.84      0.81      0.82      1000\n",
      "           3       0.85      0.92      0.88      1000\n",
      "           4       0.85      0.79      0.82      1000\n",
      "           5       0.96      0.96      0.96      1000\n",
      "           6       0.69      0.77      0.73      1000\n",
      "           7       0.94      0.95      0.95      1000\n",
      "           8       0.96      0.97      0.97      1000\n",
      "           9       0.96      0.96      0.96      1000\n",
      "\n",
      "    accuracy                           0.89     10000\n",
      "   macro avg       0.89      0.89      0.89     10000\n",
      "weighted avg       0.89      0.89      0.89     10000\n",
      "\n"
     ]
    }
   ],
   "source": [
    "print(classification_report(test_labelf, y_pred_class))"
   ]
  },
  {
   "cell_type": "code",
   "execution_count": 36,
   "id": "fbe4f93d",
   "metadata": {},
   "outputs": [],
   "source": [
    "conf_mat = multilabel_confusion_matrix(test_labelf, y_pred_class)"
   ]
  },
  {
   "cell_type": "code",
   "execution_count": 41,
   "id": "8d1c535c",
   "metadata": {},
   "outputs": [
    {
     "data": {
      "text/plain": [
       "<sklearn.metrics._plot.confusion_matrix.ConfusionMatrixDisplay at 0x1df82969760>"
      ]
     },
     "execution_count": 41,
     "metadata": {},
     "output_type": "execute_result"
    },
    {
     "data": {
      "image/png": "[encoded data removed]",
      "text/plain": [
       "<Figure size 432x288 with 2 Axes>"
      ]
     },
     "metadata": {
      "needs_background": "light"
     },
     "output_type": "display_data"
    }
   ],
   "source": [
    "ConfusionMatrixDisplay(conf_mat[6]).plot()"
   ]
  },
  {
   "cell_type": "markdown",
   "id": "d590fc8a",
   "metadata": {},
   "source": [
    "Класс 6 определяется хуже всего"
   ]
  },
  {
   "cell_type": "code",
   "execution_count": null,
   "id": "cc3de718",
   "metadata": {},
   "outputs": [],
   "source": []
  }
 ],
 "metadata": {
  "kernelspec": {
   "display_name": "Python 3",
   "language": "python",
   "name": "python3"
  },
  "language_info": {
   "codemirror_mode": {
    "name": "ipython",
    "version": 3
   },
   "file_extension": ".py",
   "mimetype": "text/x-python",
   "name": "python",
   "nbconvert_exporter": "python",
   "pygments_lexer": "ipython3",
   "version": "3.8.8"
  }
 },
 "nbformat": 4,
 "nbformat_minor": 5
}
