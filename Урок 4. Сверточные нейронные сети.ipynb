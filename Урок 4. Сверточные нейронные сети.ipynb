{
 "cells": [
  {
   "cell_type": "markdown",
   "metadata": {
    "id": "83u8Elu2ResI"
   },
   "source": [
    "## Сверточные нейронные сети"
   ]
  },
  {
   "cell_type": "markdown",
   "metadata": {
    "id": "3_eBArqdRiWO"
   },
   "source": [
    "### Задание:\n",
    "#### Используя файл Web4.ipynb (он в полезных ссылках):\n",
    "\n",
    "1. обучить рукописную сверточную нейронную сеть (с падением размера ядра свертки и последовательностью блоков свертка-пулинг (conv-pool)-(conv-pool)-...) на датасете cifar-10\n",
    "\n",
    "2. оценить рост точности при увеличении ширины сети (больше фильтров)\n",
    "\n",
    "3. оценить рост точности при увеличении глубины сети (больше слоев)\n",
    "\n",
    "4. *  сравнить с точностью полносвязной сети для этой выборки"
   ]
  },
  {
   "cell_type": "code",
   "execution_count": 1,
   "metadata": {
    "id": "QOF1g-lERKl0"
   },
   "outputs": [],
   "source": [
    "import numpy as np\n",
    "import pandas as pd\n",
    "import tensorflow as tf\n",
    "import matplotlib.pyplot as plt\n",
    "\n",
    "from tensorflow.keras.models import Sequential, Model\n",
    "from tensorflow.keras.layers import Conv2D, Input\n",
    "from tensorflow.keras.layers import GlobalMaxPooling2D, MaxPooling2D, AveragePooling2D, GlobalAveragePooling2D\n",
    "from tensorflow.keras.datasets import cifar10\n",
    "from tensorflow.keras.preprocessing.image import ImageDataGenerator\n",
    "from tensorflow.keras.utils import to_categorical\n",
    "from tensorflow.keras.layers import Dense, Dropout, Activation, Flatten\n",
    "\n",
    "import os"
   ]
  },
  {
   "cell_type": "code",
   "execution_count": 2,
   "metadata": {
    "id": "2HkGNHF0Vu7z"
   },
   "outputs": [],
   "source": [
    "tf.random.set_seed(1)"
   ]
  },
  {
   "cell_type": "code",
   "execution_count": 7,
   "metadata": {
    "colab": {
     "base_uri": "https://localhost:8080/"
    },
    "id": "mTXjD3lSVwVB",
    "outputId": "67bdb5e0-12eb-4d81-a184-3b5c3a8ca544"
   },
   "outputs": [
    {
     "data": {
      "text/plain": [
       "[]"
      ]
     },
     "execution_count": 7,
     "metadata": {},
     "output_type": "execute_result"
    }
   ],
   "source": [
    "tf.config.list_physical_devices('GPU')"
   ]
  },
  {
   "cell_type": "code",
   "execution_count": 8,
   "metadata": {
    "id": "RdxxLiXgx7d3"
   },
   "outputs": [],
   "source": [
    "results = pd.DataFrame() # сводная таблица результатов\n",
    "step = [] # шаг\n",
    "desc = [] # описание\n",
    "train_acc = [] # результат на трейне\n",
    "test_acc = [] # результат на тесте"
   ]
  },
  {
   "cell_type": "code",
   "execution_count": 9,
   "metadata": {
    "colab": {
     "base_uri": "https://localhost:8080/"
    },
    "id": "kbq-PdgbWBIP",
    "outputId": "f843f0e1-fba0-4894-db63-6f6e6f0a77c8"
   },
   "outputs": [
    {
     "name": "stdout",
     "output_type": "stream",
     "text": [
      "X_train shape: (50000, 32, 32, 3)\n",
      "50000 тренировочные примеры\n",
      "10000 тестовые примеры\n"
     ]
    }
   ],
   "source": [
    "# установка параметров нейросети\n",
    "batch_size = 64\n",
    "num_classes = 10\n",
    "epochs = 10\n",
    "\n",
    "# разделение тренировочной и тестовой выборки\n",
    "(X_train, y_train), (X_test, y_test) = cifar10.load_data()\n",
    "print('X_train shape:', X_train.shape)\n",
    "print(X_train.shape[0], 'тренировочные примеры')\n",
    "print(X_test.shape[0], 'тестовые примеры')\n",
    "\n",
    "# преобразование матрицы чисел 0-9 в бинарную матрицу чисел 0-1\n",
    "y_train = to_categorical(y_train, num_classes)\n",
    "y_test = to_categorical(y_test, num_classes)\n",
    "\n",
    "\n",
    "X_train = X_train / 255.0\n",
    "X_test = X_test / 255.0"
   ]
  },
  {
   "cell_type": "code",
   "execution_count": 10,
   "metadata": {
    "id": "ycUzSB60Y0Q1"
   },
   "outputs": [],
   "source": [
    "classes = ['самолет', 'автомобиль', 'птица', 'кот', 'олень', 'собака', 'лягушка', 'лошадь', 'корабль', 'грузовик']"
   ]
  },
  {
   "cell_type": "code",
   "execution_count": 11,
   "metadata": {
    "colab": {
     "base_uri": "https://localhost:8080/",
     "height": 281
    },
    "id": "uSCaII3xYrTP",
    "outputId": "847bc784-4959-4cdc-be89-c2bc8eb40a13"
   },
   "outputs": [
    {
     "data": {
      "image/png": "[encoded data removed]",
      "text/plain": [
       "<Figure size 432x288 with 1 Axes>"
      ]
     },
     "metadata": {
      "needs_background": "light"
     },
     "output_type": "display_data"
    }
   ],
   "source": [
    "N = 9\n",
    "\n",
    "plt.imshow(X_test[N])\n",
    "plt.title(classes[np.argmax(y_test[N,:])])\n",
    "plt.show()"
   ]
  },
  {
   "cell_type": "markdown",
   "metadata": {
    "id": "H45iKN1_ZABy"
   },
   "source": [
    "### 1. Обучить рукописную сверточную нейронную сеть (с падением размера ядра свертки и последовательностью блоков свертка-пулинг (conv-pool)-(conv-pool)-...) на датасете cifar-10\n"
   ]
  },
  {
   "cell_type": "code",
   "execution_count": 12,
   "metadata": {
    "colab": {
     "base_uri": "https://localhost:8080/"
    },
    "id": "X0ygNb8lY3WO",
    "outputId": "5d69e84e-7e29-4ed3-dad9-46d646d7f75e"
   },
   "outputs": [
    {
     "name": "stdout",
     "output_type": "stream",
     "text": [
      "Model: \"sequential\"\n",
      "_________________________________________________________________\n",
      " Layer (type)                Output Shape              Param #   \n",
      "=================================================================\n",
      " conv2d (Conv2D)             (None, 32, 32, 32)        896       \n",
      "                                                                 \n",
      " activation (Activation)     (None, 32, 32, 32)        0         \n",
      "                                                                 \n",
      " conv2d_1 (Conv2D)           (None, 30, 30, 32)        9248      \n",
      "                                                                 \n",
      " activation_1 (Activation)   (None, 30, 30, 32)        0         \n",
      "                                                                 \n",
      " max_pooling2d (MaxPooling2D  (None, 15, 15, 32)       0         \n",
      " )                                                               \n",
      "                                                                 \n",
      " dropout (Dropout)           (None, 15, 15, 32)        0         \n",
      "                                                                 \n",
      " conv2d_2 (Conv2D)           (None, 15, 15, 64)        18496     \n",
      "                                                                 \n",
      " activation_2 (Activation)   (None, 15, 15, 64)        0         \n",
      "                                                                 \n",
      " conv2d_3 (Conv2D)           (None, 13, 13, 64)        36928     \n",
      "                                                                 \n",
      " activation_3 (Activation)   (None, 13, 13, 64)        0         \n",
      "                                                                 \n",
      " max_pooling2d_1 (MaxPooling  (None, 6, 6, 64)         0         \n",
      " 2D)                                                             \n",
      "                                                                 \n",
      " dropout_1 (Dropout)         (None, 6, 6, 64)          0         \n",
      "                                                                 \n",
      " global_average_pooling2d (G  (None, 64)               0         \n",
      " lobalAveragePooling2D)                                          \n",
      "                                                                 \n",
      " dense (Dense)               (None, 64)                4160      \n",
      "                                                                 \n",
      " activation_4 (Activation)   (None, 64)                0         \n",
      "                                                                 \n",
      " dense_1 (Dense)             (None, 32)                2080      \n",
      "                                                                 \n",
      " activation_5 (Activation)   (None, 32)                0         \n",
      "                                                                 \n",
      " dropout_2 (Dropout)         (None, 32)                0         \n",
      "                                                                 \n",
      " dense_2 (Dense)             (None, 10)                330       \n",
      "                                                                 \n",
      " activation_6 (Activation)   (None, 10)                0         \n",
      "                                                                 \n",
      "=================================================================\n",
      "Total params: 72,138\n",
      "Trainable params: 72,138\n",
      "Non-trainable params: 0\n",
      "_________________________________________________________________\n"
     ]
    }
   ],
   "source": [
    "# конфигурирование слоев нейросети\n",
    "model_1 = Sequential()\n",
    "\n",
    "# слои нейросети отвественные за свертку и max-pooling\n",
    "model_1.add(Conv2D(32, (3, 3), padding='same', input_shape=X_train.shape[1:]))\n",
    "model_1.add(Activation('relu'))\n",
    "model_1.add(Conv2D(32, (3, 3)))\n",
    "model_1.add(Activation('relu'))\n",
    "model_1.add(MaxPooling2D(pool_size=(2, 2)))\n",
    "model_1.add(Dropout(0.25))\n",
    "\n",
    "model_1.add(Conv2D(64, (3, 3), padding='same'))\n",
    "model_1.add(Activation('relu'))\n",
    "model_1.add(Conv2D(64, (3, 3)))\n",
    "model_1.add(Activation('relu'))\n",
    "model_1.add(MaxPooling2D(pool_size=(2, 2)))\n",
    "model_1.add(Dropout(0.25))\n",
    "\n",
    "# полносвязные слои нейронной сети\n",
    "model_1.add(GlobalAveragePooling2D())\n",
    "model_1.add(Dense(64))\n",
    "model_1.add(Activation('relu'))\n",
    "model_1.add(Dense(32))\n",
    "model_1.add(Activation('relu'))\n",
    "model_1.add(Dropout(0.5))\n",
    "model_1.add(Dense(num_classes))\n",
    "model_1.add(Activation('softmax'))\n",
    "\n",
    "model_1.summary()\n",
    "# компиляция модели\n",
    "model_1.compile(loss='categorical_crossentropy',\n",
    "                optimizer='Adam',\n",
    "                metrics=['accuracy'])"
   ]
  },
  {
   "cell_type": "code",
   "execution_count": 13,
   "metadata": {
    "colab": {
     "base_uri": "https://localhost:8080/"
    },
    "id": "Lv3dwktVZH96",
    "outputId": "11da3f75-8782-4f17-95c7-93faec5dd430"
   },
   "outputs": [
    {
     "name": "stdout",
     "output_type": "stream",
     "text": [
      "Epoch 1/10\n",
      "782/782 [==============================] - 71s 90ms/step - loss: 2.0145 - accuracy: 0.2092 - val_loss: 1.7778 - val_accuracy: 0.2923\n",
      "Epoch 2/10\n",
      "782/782 [==============================] - 72s 92ms/step - loss: 1.7439 - accuracy: 0.3207 - val_loss: 1.5269 - val_accuracy: 0.4203\n",
      "Epoch 3/10\n",
      "782/782 [==============================] - 70s 89ms/step - loss: 1.6255 - accuracy: 0.3783 - val_loss: 1.4224 - val_accuracy: 0.4544\n",
      "Epoch 4/10\n",
      "782/782 [==============================] - 69s 88ms/step - loss: 1.5376 - accuracy: 0.4244 - val_loss: 1.3722 - val_accuracy: 0.4889\n",
      "Epoch 5/10\n",
      "782/782 [==============================] - 70s 90ms/step - loss: 1.4719 - accuracy: 0.4539 - val_loss: 1.2653 - val_accuracy: 0.5344\n",
      "Epoch 6/10\n",
      "782/782 [==============================] - 69s 88ms/step - loss: 1.4296 - accuracy: 0.4743 - val_loss: 1.2291 - val_accuracy: 0.5460\n",
      "Epoch 7/10\n",
      "782/782 [==============================] - 69s 89ms/step - loss: 1.3991 - accuracy: 0.4874 - val_loss: 1.2109 - val_accuracy: 0.5469\n",
      "Epoch 8/10\n",
      "782/782 [==============================] - 72s 92ms/step - loss: 1.3478 - accuracy: 0.5141 - val_loss: 1.1688 - val_accuracy: 0.5699\n",
      "Epoch 9/10\n",
      "782/782 [==============================] - 70s 90ms/step - loss: 1.3039 - accuracy: 0.5352 - val_loss: 1.1129 - val_accuracy: 0.6024\n",
      "Epoch 10/10\n",
      "782/782 [==============================] - 68s 87ms/step - loss: 1.2454 - accuracy: 0.5605 - val_loss: 1.1154 - val_accuracy: 0.5958\n"
     ]
    }
   ],
   "source": [
    "history_1 = model_1.fit(X_train, y_train,\n",
    "                        batch_size=batch_size,\n",
    "                        epochs=epochs,\n",
    "                        validation_data=(X_test, y_test))"
   ]
  },
  {
   "cell_type": "code",
   "execution_count": 14,
   "metadata": {
    "colab": {
     "base_uri": "https://localhost:8080/"
    },
    "id": "_H2zh1tXbSZD",
    "outputId": "ae401555-2252-444b-9dcc-434d648f8aec"
   },
   "outputs": [
    {
     "name": "stdout",
     "output_type": "stream",
     "text": [
      "1563/1563 - 12s - loss: 1.0878 - accuracy: 0.6046 - 12s/epoch - 8ms/step\n",
      "313/313 - 3s - loss: 1.1154 - accuracy: 0.5958 - 3s/epoch - 8ms/step\n",
      "train_loss: 1.087769865989685, train_accuracy: 0.6046199798583984\n",
      "test_loss: 1.1154195070266724, test_accuracy: 0.59579998254776\n"
     ]
    }
   ],
   "source": [
    "train_loss, train_m = model_1.evaluate(X_train, y_train, verbose=2)\n",
    "test_loss, test_m = model_1.evaluate(X_test, y_test, verbose=2)\n",
    "print(f'train_loss: {train_loss}, train_accuracy: {train_m}')\n",
    "print(f'test_loss: {test_loss}, test_accuracy: {test_m}')\n",
    "\n",
    "step.append(1)\n",
    "desc.append('Базовая модель')\n",
    "train_acc.append(round(train_m, 2))\n",
    "test_acc.append(round(test_m, 2))"
   ]
  },
  {
   "cell_type": "code",
   "execution_count": 18,
   "metadata": {
    "colab": {
     "base_uri": "https://localhost:8080/",
     "height": 281
    },
    "id": "Ck4h0hrRadCb",
    "outputId": "62f6388e-ff28-4246-88a9-d7401400d245"
   },
   "outputs": [
    {
     "name": "stdout",
     "output_type": "stream",
     "text": [
      "1/1 [==============================] - 0s 18ms/step\n"
     ]
    },
    {
     "data": {
      "image/png": "[encoded data removed]",
      "text/plain": [
       "<Figure size 432x288 with 1 Axes>"
      ]
     },
     "metadata": {
      "needs_background": "light"
     },
     "output_type": "display_data"
    }
   ],
   "source": [
    "N = 4\n",
    "y_p = model_1.predict(X_test[N:N+1])\n",
    "y_t = np.argmax(y_test[N:N+1], axis = 1 )\n",
    "y_i = np.argmax(y_p, axis = 1 )\n",
    "plt.imshow(X_test[N])\n",
    "plt.title(f'это : {classes[y_t[0]]} - опознан как : {classes[y_i[0]]}')\n",
    "plt.show()"
   ]
  },
  {
   "cell_type": "markdown",
   "metadata": {
    "id": "Q7RqR-k7b0m5"
   },
   "source": [
    "### 2. Оценить рост точности при увеличении ширины сети (больше фильтров)"
   ]
  },
  {
   "cell_type": "code",
   "execution_count": 19,
   "metadata": {
    "colab": {
     "base_uri": "https://localhost:8080/"
    },
    "id": "UEa8tRjicABI",
    "outputId": "78b6ad37-8b42-4751-a0bd-81a2382fbb4b"
   },
   "outputs": [
    {
     "name": "stdout",
     "output_type": "stream",
     "text": [
      "Model: \"sequential_1\"\n",
      "_________________________________________________________________\n",
      " Layer (type)                Output Shape              Param #   \n",
      "=================================================================\n",
      " conv2d_4 (Conv2D)           (None, 32, 32, 32)        896       \n",
      "                                                                 \n",
      " activation_7 (Activation)   (None, 32, 32, 32)        0         \n",
      "                                                                 \n",
      " conv2d_5 (Conv2D)           (None, 30, 30, 64)        18496     \n",
      "                                                                 \n",
      " activation_8 (Activation)   (None, 30, 30, 64)        0         \n",
      "                                                                 \n",
      " max_pooling2d_2 (MaxPooling  (None, 15, 15, 64)       0         \n",
      " 2D)                                                             \n",
      "                                                                 \n",
      " dropout_3 (Dropout)         (None, 15, 15, 64)        0         \n",
      "                                                                 \n",
      " conv2d_6 (Conv2D)           (None, 15, 15, 128)       73856     \n",
      "                                                                 \n",
      " activation_9 (Activation)   (None, 15, 15, 128)       0         \n",
      "                                                                 \n",
      " conv2d_7 (Conv2D)           (None, 13, 13, 256)       295168    \n",
      "                                                                 \n",
      " activation_10 (Activation)  (None, 13, 13, 256)       0         \n",
      "                                                                 \n",
      " max_pooling2d_3 (MaxPooling  (None, 6, 6, 256)        0         \n",
      " 2D)                                                             \n",
      "                                                                 \n",
      " dropout_4 (Dropout)         (None, 6, 6, 256)         0         \n",
      "                                                                 \n",
      " global_average_pooling2d_1   (None, 256)              0         \n",
      " (GlobalAveragePooling2D)                                        \n",
      "                                                                 \n",
      " dense_3 (Dense)             (None, 64)                16448     \n",
      "                                                                 \n",
      " activation_11 (Activation)  (None, 64)                0         \n",
      "                                                                 \n",
      " dense_4 (Dense)             (None, 32)                2080      \n",
      "                                                                 \n",
      " activation_12 (Activation)  (None, 32)                0         \n",
      "                                                                 \n",
      " dropout_5 (Dropout)         (None, 32)                0         \n",
      "                                                                 \n",
      " dense_5 (Dense)             (None, 10)                330       \n",
      "                                                                 \n",
      " activation_13 (Activation)  (None, 10)                0         \n",
      "                                                                 \n",
      "=================================================================\n",
      "Total params: 407,274\n",
      "Trainable params: 407,274\n",
      "Non-trainable params: 0\n",
      "_________________________________________________________________\n"
     ]
    }
   ],
   "source": [
    "# конфигурирование слоев нейросети\n",
    "model_2 = Sequential()\n",
    "\n",
    "# слои нейросети отвественные за свертку и max-pooling\n",
    "model_2.add(Conv2D(32, (3, 3), padding='same', input_shape=X_train.shape[1:]))\n",
    "model_2.add(Activation('relu'))\n",
    "model_2.add(Conv2D(64, (3, 3)))\n",
    "model_2.add(Activation('relu'))\n",
    "model_2.add(MaxPooling2D(pool_size=(2, 2)))\n",
    "model_2.add(Dropout(0.25))\n",
    "\n",
    "model_2.add(Conv2D(128, (3, 3), padding='same'))\n",
    "model_2.add(Activation('relu'))\n",
    "model_2.add(Conv2D(256, (3, 3)))\n",
    "model_2.add(Activation('relu'))\n",
    "model_2.add(MaxPooling2D(pool_size=(2, 2)))\n",
    "model_2.add(Dropout(0.25))\n",
    "\n",
    "# полносвязные слои нейронной сети\n",
    "model_2.add(GlobalAveragePooling2D())\n",
    "model_2.add(Dense(64))\n",
    "model_2.add(Activation('relu'))\n",
    "model_2.add(Dense(32))\n",
    "model_2.add(Activation('relu'))\n",
    "model_2.add(Dropout(0.5))\n",
    "model_2.add(Dense(num_classes))\n",
    "model_2.add(Activation('softmax'))\n",
    "\n",
    "model_2.summary()\n",
    "# компиляция модели\n",
    "model_2.compile(loss='categorical_crossentropy',\n",
    "                optimizer='Adam',\n",
    "                metrics=['accuracy'])"
   ]
  },
  {
   "cell_type": "code",
   "execution_count": 20,
   "metadata": {
    "colab": {
     "base_uri": "https://localhost:8080/"
    },
    "id": "2Q00php1dNp_",
    "outputId": "15ecd88d-7b38-4be1-c006-dbe18ea4e74b"
   },
   "outputs": [
    {
     "name": "stdout",
     "output_type": "stream",
     "text": [
      "Epoch 1/10\n",
      "782/782 [==============================] - 138s 175ms/step - loss: 1.9386 - accuracy: 0.2497 - val_loss: 1.6180 - val_accuracy: 0.3789\n",
      "Epoch 2/10\n",
      "782/782 [==============================] - 131s 168ms/step - loss: 1.6081 - accuracy: 0.3928 - val_loss: 1.4002 - val_accuracy: 0.4814\n",
      "Epoch 3/10\n",
      "782/782 [==============================] - 131s 168ms/step - loss: 1.4376 - accuracy: 0.4716 - val_loss: 1.2300 - val_accuracy: 0.5555\n",
      "Epoch 4/10\n",
      "782/782 [==============================] - 124s 159ms/step - loss: 1.3318 - accuracy: 0.5199 - val_loss: 1.2053 - val_accuracy: 0.5547\n",
      "Epoch 5/10\n",
      "782/782 [==============================] - 124s 159ms/step - loss: 1.2246 - accuracy: 0.5640 - val_loss: 1.0164 - val_accuracy: 0.6352\n",
      "Epoch 6/10\n",
      "782/782 [==============================] - 124s 159ms/step - loss: 1.1294 - accuracy: 0.6081 - val_loss: 0.9615 - val_accuracy: 0.6576\n",
      "Epoch 7/10\n",
      "782/782 [==============================] - 124s 159ms/step - loss: 1.0578 - accuracy: 0.6300 - val_loss: 0.9110 - val_accuracy: 0.6775\n",
      "Epoch 8/10\n",
      "782/782 [==============================] - 128s 163ms/step - loss: 1.0007 - accuracy: 0.6536 - val_loss: 0.9000 - val_accuracy: 0.6798\n",
      "Epoch 9/10\n",
      "782/782 [==============================] - 125s 159ms/step - loss: 0.9527 - accuracy: 0.6701 - val_loss: 0.8449 - val_accuracy: 0.7047\n",
      "Epoch 10/10\n",
      "782/782 [==============================] - 125s 160ms/step - loss: 0.9064 - accuracy: 0.6906 - val_loss: 0.7981 - val_accuracy: 0.7167\n"
     ]
    }
   ],
   "source": [
    "history_2 = model_2.fit(X_train, y_train,\n",
    "                        batch_size=batch_size,\n",
    "                        epochs=epochs,\n",
    "                        validation_data=(X_test, y_test))"
   ]
  },
  {
   "cell_type": "code",
   "execution_count": 21,
   "metadata": {
    "colab": {
     "base_uri": "https://localhost:8080/"
    },
    "id": "ud-xcmiTdlft",
    "outputId": "d8e6b134-e016-4791-f9e9-c9fa08d48f20"
   },
   "outputs": [
    {
     "name": "stdout",
     "output_type": "stream",
     "text": [
      "1563/1563 - 26s - loss: 0.6976 - accuracy: 0.7520 - 26s/epoch - 16ms/step\n",
      "313/313 - 6s - loss: 0.7981 - accuracy: 0.7167 - 6s/epoch - 18ms/step\n",
      "train_loss: 0.6976425647735596, train_accuracy: 0.7520400285720825\n",
      "test_loss: 0.7980920672416687, test_accuracy: 0.71670001745224\n"
     ]
    }
   ],
   "source": [
    "train_loss, train_m = model_2.evaluate(X_train, y_train, verbose=2)\n",
    "test_loss, test_m = model_2.evaluate(X_test, y_test, verbose=2)\n",
    "print(f'train_loss: {train_loss}, train_accuracy: {train_m}')\n",
    "print(f'test_loss: {test_loss}, test_accuracy: {test_m}')\n",
    "\n",
    "step.append(2)\n",
    "desc.append('Шире - больше каналов')\n",
    "train_acc.append(round(train_m, 2))\n",
    "test_acc.append(round(test_m, 2))"
   ]
  },
  {
   "cell_type": "code",
   "execution_count": 28,
   "metadata": {
    "colab": {
     "base_uri": "https://localhost:8080/",
     "height": 281
    },
    "id": "awQj3DPLdn7p",
    "outputId": "fc3fbc2f-1343-4907-d2bc-98bd10e3f09a"
   },
   "outputs": [
    {
     "name": "stdout",
     "output_type": "stream",
     "text": [
      "1/1 [==============================] - 0s 18ms/step\n"
     ]
    },
    {
     "data": {
      "image/png": "[encoded data removed]",
      "text/plain": [
       "<Figure size 432x288 with 1 Axes>"
      ]
     },
     "metadata": {
      "needs_background": "light"
     },
     "output_type": "display_data"
    }
   ],
   "source": [
    "N = 13\n",
    "y_p = model_2.predict(X_test[N:N+1])\n",
    "y_t = np.argmax(y_test[N:N+1], axis = 1 )\n",
    "y_i = np.argmax(y_p, axis = 1 )\n",
    "plt.imshow(X_test[N])\n",
    "plt.title(f'это : {classes[y_t[0]]} - опознан как : {classes[y_i[0]]}')\n",
    "plt.show()"
   ]
  },
  {
   "cell_type": "markdown",
   "metadata": {
    "id": "DSQGDGXqd0Ux"
   },
   "source": [
    "### 3. Оценить рост точности при увеличении глубины сети (больше слоев)"
   ]
  },
  {
   "cell_type": "code",
   "execution_count": 29,
   "metadata": {
    "colab": {
     "base_uri": "https://localhost:8080/"
    },
    "id": "0Tl8xrXZdve0",
    "outputId": "23b43ed1-3c2c-4317-8957-dd47951e3433"
   },
   "outputs": [
    {
     "name": "stdout",
     "output_type": "stream",
     "text": [
      "Model: \"sequential_2\"\n",
      "_________________________________________________________________\n",
      " Layer (type)                Output Shape              Param #   \n",
      "=================================================================\n",
      " conv2d_8 (Conv2D)           (None, 32, 32, 32)        896       \n",
      "                                                                 \n",
      " activation_14 (Activation)  (None, 32, 32, 32)        0         \n",
      "                                                                 \n",
      " conv2d_9 (Conv2D)           (None, 30, 30, 32)        9248      \n",
      "                                                                 \n",
      " activation_15 (Activation)  (None, 30, 30, 32)        0         \n",
      "                                                                 \n",
      " max_pooling2d_4 (MaxPooling  (None, 15, 15, 32)       0         \n",
      " 2D)                                                             \n",
      "                                                                 \n",
      " dropout_6 (Dropout)         (None, 15, 15, 32)        0         \n",
      "                                                                 \n",
      " conv2d_10 (Conv2D)          (None, 15, 15, 64)        18496     \n",
      "                                                                 \n",
      " activation_16 (Activation)  (None, 15, 15, 64)        0         \n",
      "                                                                 \n",
      " conv2d_11 (Conv2D)          (None, 13, 13, 64)        36928     \n",
      "                                                                 \n",
      " activation_17 (Activation)  (None, 13, 13, 64)        0         \n",
      "                                                                 \n",
      " max_pooling2d_5 (MaxPooling  (None, 6, 6, 64)         0         \n",
      " 2D)                                                             \n",
      "                                                                 \n",
      " dropout_7 (Dropout)         (None, 6, 6, 64)          0         \n",
      "                                                                 \n",
      " conv2d_12 (Conv2D)          (None, 6, 6, 64)          36928     \n",
      "                                                                 \n",
      " activation_18 (Activation)  (None, 6, 6, 64)          0         \n",
      "                                                                 \n",
      " conv2d_13 (Conv2D)          (None, 4, 4, 64)          36928     \n",
      "                                                                 \n",
      " activation_19 (Activation)  (None, 4, 4, 64)          0         \n",
      "                                                                 \n",
      " max_pooling2d_6 (MaxPooling  (None, 2, 2, 64)         0         \n",
      " 2D)                                                             \n",
      "                                                                 \n",
      " dropout_8 (Dropout)         (None, 2, 2, 64)          0         \n",
      "                                                                 \n",
      " global_average_pooling2d_2   (None, 64)               0         \n",
      " (GlobalAveragePooling2D)                                        \n",
      "                                                                 \n",
      " dense_6 (Dense)             (None, 64)                4160      \n",
      "                                                                 \n",
      " activation_20 (Activation)  (None, 64)                0         \n",
      "                                                                 \n",
      " dense_7 (Dense)             (None, 32)                2080      \n",
      "                                                                 \n",
      " activation_21 (Activation)  (None, 32)                0         \n",
      "                                                                 \n",
      " dropout_9 (Dropout)         (None, 32)                0         \n",
      "                                                                 \n",
      " dense_8 (Dense)             (None, 10)                330       \n",
      "                                                                 \n",
      " activation_22 (Activation)  (None, 10)                0         \n",
      "                                                                 \n",
      "=================================================================\n",
      "Total params: 145,994\n",
      "Trainable params: 145,994\n",
      "Non-trainable params: 0\n",
      "_________________________________________________________________\n"
     ]
    }
   ],
   "source": [
    "# конфигурирование слоев нейросети\n",
    "model_3 = Sequential()\n",
    "\n",
    "# слои нейросети отвественные за свертку и max-pooling\n",
    "model_3.add(Conv2D(32, (3, 3), padding='same', input_shape=X_train.shape[1:]))\n",
    "model_3.add(Activation('relu'))\n",
    "model_3.add(Conv2D(32, (3, 3)))\n",
    "model_3.add(Activation('relu'))\n",
    "model_3.add(MaxPooling2D(pool_size=(2, 2)))\n",
    "model_3.add(Dropout(0.25))\n",
    "\n",
    "model_3.add(Conv2D(64, (3, 3), padding='same'))\n",
    "model_3.add(Activation('relu'))\n",
    "model_3.add(Conv2D(64, (3, 3)))\n",
    "model_3.add(Activation('relu'))\n",
    "model_3.add(MaxPooling2D(pool_size=(2, 2)))\n",
    "model_3.add(Dropout(0.25))\n",
    "\n",
    "model_3.add(Conv2D(64, (3, 3), padding='same'))\n",
    "model_3.add(Activation('relu'))\n",
    "model_3.add(Conv2D(64, (3, 3)))\n",
    "model_3.add(Activation('relu'))\n",
    "model_3.add(MaxPooling2D(pool_size=(2, 2)))\n",
    "model_3.add(Dropout(0.25))\n",
    "\n",
    "\n",
    "# полносвязные слои нейронной сети\n",
    "model_3.add(GlobalAveragePooling2D())\n",
    "model_3.add(Dense(64))\n",
    "model_3.add(Activation('relu'))\n",
    "model_3.add(Dense(32))\n",
    "model_3.add(Activation('relu'))\n",
    "model_3.add(Dropout(0.5))\n",
    "model_3.add(Dense(num_classes))\n",
    "model_3.add(Activation('softmax'))\n",
    "\n",
    "model_3.summary()\n",
    "# компиляция модели\n",
    "model_3.compile(loss='categorical_crossentropy',\n",
    "                optimizer='Adam',\n",
    "                metrics=['accuracy'])"
   ]
  },
  {
   "cell_type": "code",
   "execution_count": 30,
   "metadata": {
    "colab": {
     "base_uri": "https://localhost:8080/"
    },
    "id": "DPu843TQeY7N",
    "outputId": "23c5bb37-54ed-4c39-bdd4-bc0ec86bd279"
   },
   "outputs": [
    {
     "name": "stdout",
     "output_type": "stream",
     "text": [
      "Epoch 1/10\n",
      "782/782 [==============================] - 74s 93ms/step - loss: 2.0069 - accuracy: 0.2126 - val_loss: 1.7154 - val_accuracy: 0.3468\n",
      "Epoch 2/10\n",
      "782/782 [==============================] - 72s 91ms/step - loss: 1.6382 - accuracy: 0.3834 - val_loss: 1.3756 - val_accuracy: 0.4884\n",
      "Epoch 3/10\n",
      "782/782 [==============================] - 73s 94ms/step - loss: 1.4159 - accuracy: 0.4887 - val_loss: 1.2043 - val_accuracy: 0.5561\n",
      "Epoch 4/10\n",
      "782/782 [==============================] - 72s 92ms/step - loss: 1.2793 - accuracy: 0.5469 - val_loss: 1.0897 - val_accuracy: 0.6085\n",
      "Epoch 5/10\n",
      "782/782 [==============================] - 72s 92ms/step - loss: 1.1830 - accuracy: 0.5873 - val_loss: 0.9936 - val_accuracy: 0.6492\n",
      "Epoch 6/10\n",
      "782/782 [==============================] - 75s 96ms/step - loss: 1.1080 - accuracy: 0.6165 - val_loss: 0.9407 - val_accuracy: 0.6744\n",
      "Epoch 7/10\n",
      "782/782 [==============================] - 74s 95ms/step - loss: 1.0588 - accuracy: 0.6382 - val_loss: 0.9151 - val_accuracy: 0.6822\n",
      "Epoch 8/10\n",
      "782/782 [==============================] - 74s 95ms/step - loss: 1.0080 - accuracy: 0.6561 - val_loss: 0.8316 - val_accuracy: 0.7204\n",
      "Epoch 9/10\n",
      "782/782 [==============================] - 75s 95ms/step - loss: 0.9721 - accuracy: 0.6707 - val_loss: 0.8575 - val_accuracy: 0.7048\n",
      "Epoch 10/10\n",
      "782/782 [==============================] - 78s 99ms/step - loss: 0.9369 - accuracy: 0.6823 - val_loss: 0.8322 - val_accuracy: 0.7242\n"
     ]
    }
   ],
   "source": [
    "history_3 = model_3.fit(X_train, y_train,\n",
    "                        batch_size=batch_size,\n",
    "                        epochs=epochs,\n",
    "                        validation_data=(X_test, y_test))                       "
   ]
  },
  {
   "cell_type": "code",
   "execution_count": 31,
   "metadata": {
    "colab": {
     "base_uri": "https://localhost:8080/"
    },
    "id": "Ui5vBax_eevM",
    "outputId": "f889c118-bd59-488f-a4b0-c7c324354d2e"
   },
   "outputs": [
    {
     "name": "stdout",
     "output_type": "stream",
     "text": [
      "1563/1563 - 17s - loss: 0.7169 - accuracy: 0.7490 - 17s/epoch - 11ms/step\n",
      "313/313 - 3s - loss: 0.8322 - accuracy: 0.7242 - 3s/epoch - 10ms/step\n",
      "train_loss: 0.7168733477592468, train_accuracy: 0.7489799857139587\n",
      "test_loss: 0.8321647644042969, test_accuracy: 0.7242000102996826\n"
     ]
    }
   ],
   "source": [
    "train_loss, train_m = model_3.evaluate(X_train, y_train, verbose=2)\n",
    "test_loss, test_m = model_3.evaluate(X_test, y_test, verbose=2)\n",
    "print(f'train_loss: {train_loss}, train_accuracy: {train_m}')\n",
    "print(f'test_loss: {test_loss}, test_accuracy: {test_m}')\n",
    "\n",
    "step.append(3)\n",
    "desc.append('Глубже - больше слоев')\n",
    "train_acc.append(round(train_m,2))\n",
    "test_acc.append(round(test_m,2))"
   ]
  },
  {
   "cell_type": "code",
   "execution_count": 34,
   "metadata": {
    "colab": {
     "base_uri": "https://localhost:8080/",
     "height": 281
    },
    "id": "w_AFSwBFeiu9",
    "outputId": "14bfd661-a708-4b1d-f6c6-18364590cd83"
   },
   "outputs": [
    {
     "name": "stdout",
     "output_type": "stream",
     "text": [
      "1/1 [==============================] - 0s 18ms/step\n"
     ]
    },
    {
     "data": {
      "image/png": "[encoded data removed]",
      "text/plain": [
       "<Figure size 432x288 with 1 Axes>"
      ]
     },
     "metadata": {
      "needs_background": "light"
     },
     "output_type": "display_data"
    }
   ],
   "source": [
    "N = 3\n",
    "y_p = model_3.predict(X_test[N:N+1])\n",
    "y_t = np.argmax(y_test[N:N+1], axis = 1 )\n",
    "y_i = np.argmax(y_p, axis = 1 )\n",
    "plt.imshow(X_test[N])\n",
    "plt.title(f'это : {classes[y_t[0]]} - опознан как : {classes[y_i[0]]}')\n",
    "plt.show()"
   ]
  },
  {
   "cell_type": "code",
   "execution_count": 35,
   "metadata": {
    "id": "g7HNLSixy6F7"
   },
   "outputs": [],
   "source": [
    "results['step'] = step\n",
    "results['desc'] = desc\n",
    "results['train_acc'] = train_acc"
   ]
  },
  {
   "cell_type": "code",
   "execution_count": 36,
   "metadata": {
    "colab": {
     "base_uri": "https://localhost:8080/",
     "height": 175
    },
    "id": "k-ssY_2GzRmv",
    "outputId": "638c3a34-6a6c-4899-a052-ef7fb25a4d75"
   },
   "outputs": [
    {
     "data": {
      "text/html": [
       "<div>\n",
       "<style scoped>\n",
       "    .dataframe tbody tr th:only-of-type {\n",
       "        vertical-align: middle;\n",
       "    }\n",
       "\n",
       "    .dataframe tbody tr th {\n",
       "        vertical-align: top;\n",
       "    }\n",
       "\n",
       "    .dataframe thead th {\n",
       "        text-align: right;\n",
       "    }\n",
       "</style>\n",
       "<table border=\"1\" class=\"dataframe\">\n",
       "  <thead>\n",
       "    <tr style=\"text-align: right;\">\n",
       "      <th></th>\n",
       "      <th>step</th>\n",
       "      <th>desc</th>\n",
       "      <th>train_acc</th>\n",
       "    </tr>\n",
       "  </thead>\n",
       "  <tbody>\n",
       "    <tr>\n",
       "      <th>0</th>\n",
       "      <td>1</td>\n",
       "      <td>Базовая модель</td>\n",
       "      <td>0.60</td>\n",
       "    </tr>\n",
       "    <tr>\n",
       "      <th>1</th>\n",
       "      <td>2</td>\n",
       "      <td>Шире - больше каналов</td>\n",
       "      <td>0.75</td>\n",
       "    </tr>\n",
       "    <tr>\n",
       "      <th>2</th>\n",
       "      <td>3</td>\n",
       "      <td>Глубже - больше слоев</td>\n",
       "      <td>0.75</td>\n",
       "    </tr>\n",
       "  </tbody>\n",
       "</table>\n",
       "</div>"
      ],
      "text/plain": [
       "   step                   desc  train_acc\n",
       "0     1         Базовая модель       0.60\n",
       "1     2  Шире - больше каналов       0.75\n",
       "2     3  Глубже - больше слоев       0.75"
      ]
     },
     "execution_count": 36,
     "metadata": {},
     "output_type": "execute_result"
    }
   ],
   "source": [
    "results"
   ]
  },
  {
   "cell_type": "markdown",
   "metadata": {
    "id": "jNyOFmil3eUR"
   },
   "source": [
    "### Выводы:<br>\n",
    "* увеличение количества каналов, т.е. увеличение итогового количества признаков, увеличило значение метрики;\n",
    "* увеличение глубины сети тоже увеличило метрику качества, но это всё равно ниже, чем с большом кол-вом каналов;"
   ]
  },
  {
   "cell_type": "code",
   "execution_count": null,
   "metadata": {},
   "outputs": [],
   "source": []
  }
 ],
 "metadata": {
  "accelerator": "GPU",
  "colab": {
   "provenance": []
  },
  "kernelspec": {
   "display_name": "Python 3",
   "language": "python",
   "name": "python3"
  },
  "language_info": {
   "codemirror_mode": {
    "name": "ipython",
    "version": 3
   },
   "file_extension": ".py",
   "mimetype": "text/x-python",
   "name": "python",
   "nbconvert_exporter": "python",
   "pygments_lexer": "ipython3",
   "version": "3.8.8"
  }
 },
 "nbformat": 4,
 "nbformat_minor": 1
}
